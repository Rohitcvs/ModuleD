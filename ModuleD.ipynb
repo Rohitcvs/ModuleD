{
  "nbformat": 4,
  "nbformat_minor": 0,
  "metadata": {
    "colab": {
      "provenance": [],
      "authorship_tag": "ABX9TyNpedi24wMZ0L0haOuttZy2",
      "include_colab_link": true
    },
    "kernelspec": {
      "name": "python3",
      "display_name": "Python 3"
    },
    "language_info": {
      "name": "python"
    }
  },
  "cells": [
    {
      "cell_type": "markdown",
      "metadata": {
        "id": "view-in-github",
        "colab_type": "text"
      },
      "source": [
        "<a href=\"https://colab.research.google.com/github/Rohitcvs/ModuleD/blob/main/ModuleD.ipynb\" target=\"_parent\"><img src=\"https://colab.research.google.com/assets/colab-badge.svg\" alt=\"Open In Colab\"/></a>"
      ]
    },
    {
      "cell_type": "markdown",
      "source": [
        "Section 1: Linear Space(Vector Space)\n",
        "\n",
        "A linear space is a fundamental structure in linear algebra where vectors can be added together and multiplied by scalars while maintaining closure under these operations. Formally, a vector space V over a field F (such as real or complex numbers) must satisfy several axioms, including:\n",
        "1. Associativity and Commutativity of Addition: u + v = v + u.\n",
        "2. Existence of a Zero Vector: u + 0 = u.\n",
        "3. Existence of Additive Inverses: u + (-u) = 0.\n",
        "\n",
        "Vector spaces are fundamental in various areas such as quantum mechanics, computer graphics, and data science, where spaces of solutions to equations are analyzed. If a set of elements along with two operations - addition and scalar multiplication - satisfies all these properties, then it is a vector space.\n"
      ],
      "metadata": {
        "id": "qoKXPZe-ZOny"
      }
    },
    {
      "cell_type": "code",
      "source": [
        "import numpy as np\n",
        "\n",
        "# Define vectors\n",
        "u = np.array([1,2])\n",
        "v = np.array([3,4])\n",
        "\n",
        "# Scalar multiplication\n",
        "scalar = 2\n",
        "scaled_vector = scalar * u\n",
        "\n",
        "# Vector addition\n",
        "sum_vector = u + v\n",
        "\n",
        "print(\"Vector u:\", u)\n",
        "print(\"Vector v:\", v)\n",
        "print(\"Scalar multiplication result (2 * u):\", scaled_vector)\n",
        "print(\"Vector addition result (u + v):\", sum_vector)"
      ],
      "metadata": {
        "colab": {
          "base_uri": "https://localhost:8080/"
        },
        "id": "Jts-UWLvdbzD",
        "outputId": "e5b19dbd-9f3c-475c-eb40-de9d0bb2b9a7"
      },
      "execution_count": 1,
      "outputs": [
        {
          "output_type": "stream",
          "name": "stdout",
          "text": [
            "Vector u: [1 2]\n",
            "Vector v: [3 4]\n",
            "Scalar multiplication result (2 * u): [2 4]\n",
            "Vector addition result (u + v): [4 6]\n"
          ]
        }
      ]
    },
    {
      "cell_type": "markdown",
      "source": [
        "Section 2: Orthogonality\n",
        "\n",
        "In linear algebra, two vectors are said to be orthogonal if their dot product is zero. Geometrically, this means the vectors are perpendicular to each other. Mathematically, for two vectors u and v, they are orthogonal if:\n",
        "\n",
        "        u.v = 0\n",
        "where . denotes the dot product (also called the inner product in some contexts). This property is fundamental in many fields, such as computer graphics, signal processing, and machine learning."
      ],
      "metadata": {
        "id": "SKv1RLxRfJmv"
      }
    },
    {
      "cell_type": "code",
      "source": [
        "import numpy as np\n",
        "\n",
        "# Define two vectors\n",
        "a = np.array([2, -3])\n",
        "b = np.array([3,2])\n",
        "\n",
        "# Compute dot product\n",
        "dot_product = np.dot(a, b)\n",
        "\n",
        "print(\"Vector a:\", a)\n",
        "print(\"Vector b:\", b)\n",
        "print(\"Dot product:\", dot_product)\n",
        "\n",
        "if dot_product == 0:\n",
        "  print(\"The vectors are orthogonal.\")\n",
        "else:\n",
        "  print(\"The vectors are not orthogonal.\")"
      ],
      "metadata": {
        "colab": {
          "base_uri": "https://localhost:8080/"
        },
        "id": "-YdVXQ0pgbrJ",
        "outputId": "8111bc86-5d1b-4dfb-ff19-43533fa94a99"
      },
      "execution_count": 2,
      "outputs": [
        {
          "output_type": "stream",
          "name": "stdout",
          "text": [
            "Vector a: [ 2 -3]\n",
            "Vector b: [3 2]\n",
            "Dot product: 0\n",
            "The vectors are orthogonal.\n"
          ]
        }
      ]
    },
    {
      "cell_type": "markdown",
      "source": [],
      "metadata": {
        "id": "T0ZF41qziajY"
      }
    },
    {
      "cell_type": "markdown",
      "source": [
        "Section 3: Eigenvalues\n",
        "\n",
        "Eigenvalues and eigenvectors are fundamental concepts in linear algebra that describe how a matrix transforms vectors. Given a square matrix A, an eigenvector v and its corresponding eigenvalue λ satisfy the equation:\n",
        "          Av = λv\n",
        "where:\n",
        "1. A is a n x n matrix.\n",
        "2. v is a nonzero vector.\n",
        "3. λ is a scalar (eigenvalue)\n",
        "4. The direction of v remains unchanged, but it may be stretched or compressed by λ.\n",
        "\n",
        "Eigenvalues represent how much an eigenvector is scaled when a transformation is applied by a matrix. For example:\n",
        "1. If λ > 1, the eigenvector is stretched.\n",
        "2. If 0 < λ < 1, the eigenvector is shrunk.\n",
        "3. If λ = 1, the eigenvector remains unchanged.\n",
        "4. If λ = 0, the eigenvector is mapped to zero.\n",
        "5. If λ < 0, the eigenvector flips direction."
      ],
      "metadata": {
        "id": "mLGQjkMYic_N"
      }
    },
    {
      "cell_type": "code",
      "source": [
        "import numpy as np\n",
        "\n",
        "# Define a square matrix\n",
        "A = np.array([[4, -2],\n",
        "              [1, 1]])\n",
        "\n",
        "# Compute eigenvalues and eigenvectors\n",
        "eigenvalues, eigenvectors = np.linalg.eig(A)\n",
        "\n",
        "print(\"Matrix A:\\n\", A)\n",
        "print(\"Eigenvalues:\\n\", eigenvalues)\n",
        "print(\"Eigenvectors:\\n\", eigenvectors)\n"
      ],
      "metadata": {
        "colab": {
          "base_uri": "https://localhost:8080/"
        },
        "id": "S6WZUkgHlj3J",
        "outputId": "af304cf0-a474-4114-ff11-8553f180f498"
      },
      "execution_count": 3,
      "outputs": [
        {
          "output_type": "stream",
          "name": "stdout",
          "text": [
            "Matrix A:\n",
            " [[ 4 -2]\n",
            " [ 1  1]]\n",
            "Eigenvalues:\n",
            " [3. 2.]\n",
            "Eigenvectors:\n",
            " [[0.89442719 0.70710678]\n",
            " [0.4472136  0.70710678]]\n"
          ]
        }
      ]
    },
    {
      "cell_type": "code",
      "source": [],
      "metadata": {
        "id": "F4920jramW89"
      },
      "execution_count": null,
      "outputs": []
    }
  ]
}